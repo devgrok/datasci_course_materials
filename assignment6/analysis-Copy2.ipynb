{
 "cells": [
  {
   "cell_type": "code",
   "execution_count": null,
   "metadata": {
    "collapsed": true
   },
   "outputs": [],
   "source": [
    "%matplotlib inline"
   ]
  },
  {
   "cell_type": "code",
   "execution_count": 28,
   "metadata": {
    "collapsed": false
   },
   "outputs": [
    {
     "name": "stdout",
     "output_type": "stream",
     "text": [
      "Reading data...\n",
      "ready\n"
     ]
    }
   ],
   "source": [
    "# %load analysis.py\n",
    "import seaborn as sns\n",
    "import datetime\n",
    "import pandas\n",
    "import matplotlib.pyplot as plt\n",
    "from geopy.distance import vincenty\n",
    "\n",
    "\n",
    "# from multiprocessing import Pool, cpu_count\n",
    "# pool = Pool(cpu_count())  # use cpu processes\n",
    "\n",
    "def print_nominals(data):\n",
    "    # print(\"\\n\\ncategories(Category):\")\n",
    "    # print(data[\"Descript\"].unique())\n",
    "\n",
    "    # uses IncidntNum as every row has it populated\n",
    "    categories = data.groupby(\"Category\")[\"IncidntNum\"].count().sort_values(0, ascending=False)\n",
    "    print(\"\")\n",
    "    print(categories)\n",
    "\n",
    "    descriptions = data.groupby(\"Descript\")[\"IncidntNum\"].count().sort_values(0, ascending=False)\n",
    "    print(\"\")\n",
    "    print(descriptions)\n",
    "\n",
    "    districts = data.groupby(\"PdDistrict\")[\"IncidntNum\"].count().sort_values(0, ascending=False)\n",
    "    print(\"\")\n",
    "    print(districts)\n",
    "\n",
    "    resolutions = data.groupby(\"Resolution\")[\"IncidntNum\"].count().sort_values(0, ascending=False)\n",
    "    print(\"\")\n",
    "    print(resolutions)\n",
    "\n",
    "    print(\"\\n\\n\")\n",
    "    print(\"number of records: %s\" % data[\"IncidntNum\"].size)\n",
    "    print(\"number of incidntNum: %s\" % data[\"IncidntNum\"].unique().size)\n",
    "    print(\"number of PdId: %s\" % data[\"PdId\"].unique().size)\n",
    "\n",
    "\n",
    "def calculate_distances(data):\n",
    "    # type: (pandas.DataFrame) -> None\n",
    "\n",
    "    # parse location into tuples\n",
    "    # print(sanfran[\"Location\"][0])\n",
    "    # print(sanfran[\"Location\"].str.extract(\"\\\\(([^,]*), ([^)]*)\\\\)\", expand=True)[1:5])\n",
    "    sanfran = data.sort_values([\"PdDistrict\", \"DateTime\"], )\n",
    "    tuples = [tuple(x) for x in sanfran[\"Location\"].str.extract(\"\\\\(([^,]*), ([^)]*)\\\\)\", expand=True).values]\n",
    "    sanfran[\"Location\"] = pandas.Series(tuples)\n",
    "    print(sanfran[\"Location\"][0])\n",
    "\n",
    "    sanfran[\"LocationP1\"] = sanfran[\"Location\"].shift(1)\n",
    "    # distances = vincenty(sanfran[\"Location\"], sanfran[\"Location\"].shift(1)).miles\n",
    "    vincenty(sanfran[\"Location\"][0], sanfran[\"Location\"][1]).miles\n",
    "    # print(distances)\n",
    "\n",
    "\n",
    "print(\"Reading data...\")\n",
    "sanfran = pandas.read_csv(\"sanfrancisco_incidents_summer_2014.csv\", parse_dates={'DateTime': ['Date', 'Time']})\n",
    "\n",
    "\n",
    "# wrong sanfran[\"Date\"] = pandas.concat([sanfran[\"Date\"], sanfran[\"Time\"]]).reindex_like(sanfran)\n",
    "# sanfran[\"DateTime\"] = pandas.to_datetime(sanfran[\"Date\"] + \" \" + sanfran[\"Time\"])\n",
    "# sanfran[\"Date\"] = pandas.to_datetime(sanfran[\"Date\"], dayfirst=False)\n",
    "# sanfran[\"Time\"] = pandas.to_datetime(sanfran[\"Time\"], dayfirst=False)\n",
    "\n",
    "\n",
    "# print(sanfran.describe())\n",
    "# print(sanfran[0:4])\n",
    "\n",
    "\n",
    "\n",
    "def plot_category(data):\n",
    "    print(\"plotting categories\")\n",
    "    sanfran = data.groupby(\"IncidntNum\").first()\n",
    "\n",
    "    plot1 = sns.stripplot(x=\"DateTime\", y=\"Category\", data=sanfran, jitter=True)\n",
    "    plot1.set_xlim(datetime.datetime(2014, 6, 1), datetime.datetime(2014, 9, 1))\n",
    "\n",
    "    # sns.barplot(x=\"DateTime\", y=\"Category\", data=sanfran, jitter=True)\n",
    "\n",
    "    # g = sns.FacetGrid(data=sanfran, row=\"PdDistrict\", col=\"DayOfWeek\")\n",
    "    # g.map(sns.barplot, \"DateTime\", \"Category\", estimator=len).set_axis_labels(\"Date\", \"Category\")\n",
    "    # sns.tsplot(sanfran, time=\"DateTime\", value=\"\")\n",
    "\n",
    "    sns.plt.show()\n",
    "    print(\"Done plot\")\n",
    "\n",
    "\n",
    "def plot_districts(data):\n",
    "    print(\"plotting districts\")\n",
    "    filteredData = data.groupby(\"IncidntNum\").first()\n",
    "\n",
    "    plot1 = sns.stripplot(x=\"DateTime\", y=\"PdDistrict\", data=filteredData, jitter=True)\n",
    "    plot1.set_xlim(datetime.datetime(2014, 6, 1), datetime.datetime(2014, 9, 1))\n",
    "\n",
    "    # plot2 = sns.swarmplot(x=\"DateTime\", y=\"PdDistrict\", data=filteredData)\n",
    "    # f, axes = plt.subplots(figsize=(7, 7))\n",
    "    plot2 = sns.violinplot(x=\"DateTime\", y=\"PdDistrict\", data=filteredData)\n",
    "    plot2.set_xlim(datetime.datetime(2014, 6, 1), datetime.datetime(2014, 9, 1))\n",
    "\n",
    "    print(\"Done plot(s)\")\n",
    "\n",
    "\n",
    "def print_categories(data):\n",
    "    print(\"homicides/murder\")\n",
    "    print(sanfran[sanfran[\"Descript\"].str.contains(\"HOMICIDE\")][[\"Descript\", \"Category\"]]\n",
    "          .groupby([\"Descript\", \"Category\"]).aggregate(len))\n",
    "\n",
    "    print(\"gun crimes\")\n",
    "    print(sanfran[sanfran[\"Descript\"].str.contains(\"GUN\")][[\"Descript\", \"Category\"]]\n",
    "          .groupby([\"Descript\", \"Category\"]).aggregate(len))\n",
    "\n",
    "    print(\"sex crimes\")\n",
    "    print(sanfran[sanfran[\"Descript\"].str.contains(\"SEX\")][[\"Descript\", \"Category\"]]\n",
    "          .groupby([\"Descript\", \"Category\"]).aggregate(len))\n",
    "\n",
    "\n",
    "# plot_category(sanfran)\n",
    "\n",
    "filteredData = sanfran.groupby(\"IncidntNum\").first()\n",
    "\n",
    "print(\"ready\")"
   ]
  },
  {
   "cell_type": "markdown",
   "metadata": {},
   "source": [
    "# Categories"
   ]
  },
  {
   "cell_type": "markdown",
   "metadata": {},
   "source": [
    "## Homicides/Murder"
   ]
  },
  {
   "cell_type": "code",
   "execution_count": 29,
   "metadata": {
    "collapsed": false
   },
   "outputs": [
    {
     "data": {
      "text/plain": [
       "Descript                                    Category\n",
       "ATTEMPTED HOMICIDE WITH A DANGEROUS WEAPON  ASSAULT      9\n",
       "ATTEMPTED HOMICIDE WITH A GUN               ASSAULT     15\n",
       "ATTEMPTED HOMICIDE WITH A KNIFE             ASSAULT      2\n",
       "ATTEMPTED HOMICIDE WITH BODILY FORCE        ASSAULT      4\n",
       "dtype: int64"
      ]
     },
     "execution_count": 29,
     "metadata": {},
     "output_type": "execute_result"
    }
   ],
   "source": [
    "sanfran[sanfran[\"Descript\"].str.contains(\"HOMICIDE\")][[\"Descript\", \"Category\"]].groupby([\"Descript\", \"Category\"]).aggregate(len)"
   ]
  },
  {
   "cell_type": "markdown",
   "metadata": {
    "collapsed": true
   },
   "source": [
    "## Gun crimes"
   ]
  },
  {
   "cell_type": "code",
   "execution_count": 30,
   "metadata": {
    "collapsed": false
   },
   "outputs": [
    {
     "data": {
      "text/plain": [
       "Descript                                          Category    \n",
       "AGGRAVATED ASSAULT WITH A GUN                     ASSAULT         34\n",
       "ATTEMPTED HOMICIDE WITH A GUN                     ASSAULT         15\n",
       "ATTEMPTED ROBBERY COMM. ESTABLISHMENT WITH A GUN  ROBBERY          2\n",
       "ATTEMPTED ROBBERY ON THE STREET WITH A GUN        ROBBERY          8\n",
       "ATTEMPTED ROBBERY RESIDENCE WITH A GUN            ROBBERY          1\n",
       "ATTEMPTED ROBBERY WITH A GUN                      ROBBERY          7\n",
       "CARJACKING WITH A GUN                             ROBBERY          7\n",
       "MAYHEM WITH A GUN                                 ASSAULT          1\n",
       "POSSESSION OF AIR GUN                             WEAPON LAWS     13\n",
       "POSSESSION OF MACHINE GUN                         WEAPON LAWS      1\n",
       "ROBBERY OF A BANK WITH A GUN                      ROBBERY          2\n",
       "ROBBERY OF A CHAIN STORE WITH A GUN               ROBBERY          1\n",
       "ROBBERY OF A COMMERCIAL ESTABLISHMENT WITH A GUN  ROBBERY         11\n",
       "ROBBERY OF A RESIDENCE WITH A GUN                 ROBBERY          6\n",
       "ROBBERY OF A SERVICE STATION WITH A GUN           ROBBERY          3\n",
       "ROBBERY ON THE STREET WITH A GUN                  ROBBERY         65\n",
       "TURNED IN GUN                                     NON-CRIMINAL    23\n",
       "dtype: int64"
      ]
     },
     "execution_count": 30,
     "metadata": {},
     "output_type": "execute_result"
    }
   ],
   "source": [
    "sanfran[sanfran[\"Descript\"].str.contains(\"GUN\")][[\"Descript\", \"Category\"]].groupby([\"Descript\", \"Category\"]).aggregate(len)"
   ]
  },
  {
   "cell_type": "markdown",
   "metadata": {},
   "source": [
    "## Sex Crimes"
   ]
  },
  {
   "cell_type": "code",
   "execution_count": 31,
   "metadata": {
    "collapsed": false
   },
   "outputs": [
    {
     "data": {
      "text/plain": [
       "Descript                             Category      \n",
       "FAILURE TO REGISTER AS SEX OFFENDER  OTHER OFFENSES    21\n",
       "dtype: int64"
      ]
     },
     "execution_count": 31,
     "metadata": {},
     "output_type": "execute_result"
    }
   ],
   "source": [
    "sanfran[sanfran[\"Descript\"].str.contains(\"SEX\")][[\"Descript\", \"Category\"]].groupby([\"Descript\", \"Category\"]).aggregate(len)"
   ]
  },
  {
   "cell_type": "markdown",
   "metadata": {},
   "source": [
    "# Districts"
   ]
  },
  {
   "cell_type": "code",
   "execution_count": 32,
   "metadata": {
    "collapsed": false
   },
   "outputs": [],
   "source": [
    "plot1 = sns.stripplot(x=\"DateTime\", y=\"PdDistrict\", data=filteredData, jitter=True)\n",
    "plot1.set_xlim(datetime.datetime(2014, 6, 1), datetime.datetime(2014, 9, 1))"
   ]
  },
  {
   "cell_type": "code",
   "execution_count": 33,
   "metadata": {
    "collapsed": false
   },
   "outputs": [],
   "source": [
    "# plot2 = sns.violinplot(x=\"DateTime\", y=\"PdDistrict\", data=filteredData, orient=\"h\", inner=None)\n",
    "# noop = plot2.set_xlim(datetime.datetime(2014, 6, 1), datetime.datetime(2014, 9, 1))"
   ]
  },
  {
   "cell_type": "code",
   "execution_count": null,
   "metadata": {
    "collapsed": false
   },
   "outputs": [],
   "source": [
    "#plot3 = sns.distplot(\"DateTime\", data=filteredData)\n",
    "#df.groupby(df.date.dt.month).count().plot(kind=\"bar\")\n",
    "grouped = filteredData.groupby([filteredData.DateTime.dt.date, filteredData.DateTime.dt.hour]).count()\n",
    "grouped.columns"
   ]
  }
 ],
 "metadata": {
  "anaconda-cloud": {},
  "kernelspec": {
   "display_name": "Python [default]",
   "language": "python",
   "name": "python2"
  },
  "language_info": {
   "codemirror_mode": {
    "name": "ipython",
    "version": 2.0
   },
   "file_extension": ".py",
   "mimetype": "text/x-python",
   "name": "python",
   "nbconvert_exporter": "python",
   "pygments_lexer": "ipython2",
   "version": "2.7.12"
  }
 },
 "nbformat": 4,
 "nbformat_minor": 0
}