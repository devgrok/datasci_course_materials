{
 "cells": [
  {
   "cell_type": "code",
   "execution_count": 1,
   "metadata": {
    "collapsed": true
   },
   "outputs": [],
   "source": [
    "matplotlib inline"
   ]
  },
  {
   "cell_type": "code",
   "execution_count": 3,
   "metadata": {
    "collapsed": false
   },
   "outputs": [
    {
     "name": "stdout",
     "output_type": "stream",
     "text": [
      "Reading data...\n",
      "ready\n"
     ]
    }
   ],
   "source": [
    "from analysis import *\n"
   ]
  },
  {
   "cell_type": "markdown",
   "metadata": {},
   "source": [
    "# Categories"
   ]
  },
  {
   "cell_type": "markdown",
   "metadata": {},
   "source": [
    "## Homicides/Murder"
   ]
  },
  {
   "cell_type": "code",
   "execution_count": null,
   "metadata": {
    "collapsed": false
   },
   "outputs": [],
   "source": [
    "sanfran[sanfran[\"Descript\"].str.contains(\"HOMICIDE\")][[\"Descript\", \"Category\"]].groupby([\"Descript\", \"Category\"]).aggregate(len)"
   ]
  },
  {
   "cell_type": "markdown",
   "metadata": {
    "collapsed": true
   },
   "source": [
    "## Gun crimes"
   ]
  },
  {
   "cell_type": "code",
   "execution_count": null,
   "metadata": {
    "collapsed": false
   },
   "outputs": [],
   "source": [
    "sanfran[sanfran[\"Descript\"].str.contains(\"GUN\")][[\"Descript\", \"Category\"]].groupby([\"Descript\", \"Category\"]).aggregate(len)"
   ]
  },
  {
   "cell_type": "markdown",
   "metadata": {},
   "source": [
    "## Sex Crimes"
   ]
  },
  {
   "cell_type": "code",
   "execution_count": null,
   "metadata": {
    "collapsed": false
   },
   "outputs": [],
   "source": [
    "sanfran[sanfran[\"Descript\"].str.contains(\"SEX\")][[\"Descript\", \"Category\"]].groupby([\"Descript\", \"Category\"]).aggregate(len)"
   ]
  },
  {
   "cell_type": "markdown",
   "metadata": {},
   "source": [
    "# Resolutions"
   ]
  },
  {
   "cell_type": "code",
   "execution_count": null,
   "metadata": {
    "collapsed": false
   },
   "outputs": [],
   "source": [
    "res=sanfran[\"Resolution\"].str.extract(\"([\\w\\s]+)(?:,\\s*([\\w\\s]+))*\", expand=True)\n",
    "pandas.concat([res.loc[:, 0], res.loc[:, 1]]).unique()"
   ]
  },
  {
   "cell_type": "markdown",
   "metadata": {},
   "source": [
    "# Districts"
   ]
  },
  {
   "cell_type": "code",
   "execution_count": null,
   "metadata": {
    "collapsed": false
   },
   "outputs": [],
   "source": [
    "filteredData[\"Date\"] = pandas.to_datetime(filteredData[\"Date\"])\n",
    "#filteredData.tz_localize('UTC')\n",
    "plot1 = sns.stripplot(x=\"Date\", y=\"PdDistrict\", data=filteredData, jitter=True)\n",
    "plot1.set_xlim(datetime.datetime(2014, 6, 1), datetime.datetime(2014, 9, 1))"
   ]
  },
  {
   "cell_type": "code",
   "execution_count": null,
   "metadata": {
    "collapsed": false
   },
   "outputs": [],
   "source": [
    "# plot2 = sns.violinplot(x=\"DateTime\", y=\"PdDistrict\", data=filteredData, orient=\"h\", inner=None)\n",
    "# noop = plot2.set_xlim(datetime.datetime(2014, 6, 1), datetime.datetime(2014, 9, 1))"
   ]
  },
  {
   "cell_type": "code",
   "execution_count": null,
   "metadata": {
    "collapsed": false
   },
   "outputs": [],
   "source": [
    "#plot3 = sns.distplot(\"DateTime\", data=filteredData)\n",
    "#df.groupby(df.date.dt.month).count().plot(kind=\"bar\")\n",
    "# grouped = filteredData.groupby([filteredData.DateTime.dt.date, filteredData.DateTime.dt.hour]).count()\n",
    "#grouped.columns\n",
    "import numpy as np\n",
    "bins = pandas.to_datetime(np.linspace(filteredData[\"DateTime\"].min().value, filteredData[\"DateTime\"].max().value, num=20))\n",
    "#filteredData['DateBin'] = pandas.cut(filteredData['DateTime'], bins)\n",
    "#filteredData['DateBin'] = pandas.cut(filteredData['DateTime'], 20)\n",
    "def bin_t(x):\n",
    "    return datetime.datetime(x.year, x.month, x.day, x.hour, 0, 0)\n",
    "filteredData['DateBin'] = filteredData[\"DateTime\"].apply(bin_t)\n",
    "plot3 = sns.stripplot(x=\"DateBin\", y=\"PdDistrict\", data=filteredData, jitter=True)\n",
    "plot3.set_xlim(datetime.datetime(2014, 6, 1), datetime.datetime(2014, 9, 1))"
   ]
  },
  {
   "cell_type": "code",
   "execution_count": null,
   "metadata": {
    "collapsed": false,
    "scrolled": false
   },
   "outputs": [],
   "source": [
    "f, ax = plt.subplots(figsize=(15, 6))\n",
    "sns.set_color_codes(\"pastel\")\n",
    "plot4 = sns.countplot(x=\"PdDistrict\", data=sanfran, color=\"b\", label=\"Charges Made\")\n",
    "sns.set_color_codes(\"muted\")\n",
    "plot5 = sns.countplot(x=\"PdDistrict\", data=filteredData, color=\"b\", label=\"Number of Incidents\")\n",
    "ax.legend(ncol=2, loc=\"upper right\", frameon=True)\n",
    "ax.set(ylabel=\"\", xlabel=\"Police District\")\n",
    "sns.despine(left=True, bottom=True)"
   ]
  },
  {
   "cell_type": "code",
   "execution_count": null,
   "metadata": {
    "collapsed": false
   },
   "outputs": [],
   "source": [
    "grouped = filteredData[[\"PdDistrict\",\"Date\",\"IncidntNum\"]].groupby([\"PdDistrict\",\"Date\"], as_index=False).count()\n",
    "#grouped[\"Date\"] = pandas.to_datetime(grouped[\"Date\"])\n",
    "#sns.tsplot(grouped.groupby(\"Date\"), value=\"IncidntNum\")\n",
    "# plot4 = sns.factorplot(x=\"Date\", y=\"IncidntNum\", hue=\"PdDistrict\", data=grouped)\n",
    "#plot4.set_xlim(datetime.datetime(2014, 6, 1), datetime.datetime(2014, 9, 1))\n"
   ]
  },
  {
   "cell_type": "code",
   "execution_count": null,
   "metadata": {
    "collapsed": false
   },
   "outputs": [],
   "source": [
    "#pandas.tools.plotting.scatter_matrix(filteredData.loc[:, [\"Arrested\",\"Booked\",\"NoResolution\"]], diagonal=\"kde\")\n",
    "thedata=filteredData[[\"Arrested\",\"Booked\",\"No Resolution\",\"PdDistrict\"]].groupby(\"PdDistrict\").sum()\n",
    "thedata.plot(figsize=(15,5));\n",
    "#sns.barplot(data=thedata, x=\"PdDistrict\")\n",
    "#ax = filteredData.loc[[\"Arrested\",\"Booked\",\"NoResolution\",\"PdDistrict\"]].plot()\n",
    "#ax.legend(loc='center left', bbox_to_anchor=(1, 0.5));"
   ]
  },
  {
   "cell_type": "code",
   "execution_count": null,
   "metadata": {
    "collapsed": false
   },
   "outputs": [],
   "source": [
    "filteredData"
   ]
  },
  {
   "cell_type": "code",
   "execution_count": 4,
   "metadata": {
    "collapsed": false
   },
   "outputs": [
    {
     "data": {
      "text/plain": [
       "array(['NONE', 'ARREST, BOOKED', 'ARREST, CITED',\n",
       "       'DISTRICT ATTORNEY REFUSES TO PROSECUTE', 'JUVENILE BOOKED',\n",
       "       'LOCATED', 'UNFOUNDED', 'EXCEPTIONAL CLEARANCE', 'JUVENILE CITED',\n",
       "       'PSYCHOPATHIC CASE', 'NOT PROSECUTED', 'JUVENILE ADMONISHED',\n",
       "       'COMPLAINANT REFUSES TO PROSECUTE', 'PROSECUTED BY OUTSIDE AGENCY',\n",
       "       'CLEARED-CONTACT JUVENILE FOR MORE INFO', 'JUVENILE DIVERTED'], dtype=object)"
      ]
     },
     "execution_count": 4,
     "metadata": {},
     "output_type": "execute_result"
    }
   ],
   "source": [
    "sanfran[\"Resolution\"].unique()"
   ]
  },
  {
   "cell_type": "code",
   "execution_count": null,
   "metadata": {
    "collapsed": true
   },
   "outputs": [],
   "source": []
  }
 ],
 "metadata": {
  "anaconda-cloud": {},
  "kernelspec": {
   "display_name": "Python [default]",
   "language": "python",
   "name": "python2"
  },
  "language_info": {
   "codemirror_mode": {
    "name": "ipython",
    "version": 2
   },
   "file_extension": ".py",
   "mimetype": "text/x-python",
   "name": "python",
   "nbconvert_exporter": "python",
   "pygments_lexer": "ipython2",
   "version": "2.7.12"
  }
 },
 "nbformat": 4,
 "nbformat_minor": 0
}
