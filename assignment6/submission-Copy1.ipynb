{
 "cells": [
  {
   "cell_type": "code",
   "execution_count": null,
   "metadata": {
    "collapsed": true
   },
   "outputs": [],
   "source": [
    "matplotlib inline"
   ]
  },
  {
   "cell_type": "code",
   "execution_count": null,
   "metadata": {
    "collapsed": false
   },
   "outputs": [
    {
     "name": "stdout",
     "output_type": "stream",
     "text": [
      "Reading data...\n"
     ]
    }
   ],
   "source": [
    "from analysis import *"
   ]
  },
  {
   "cell_type": "markdown",
   "metadata": {},
   "source": [
    "# Crimes per Police District\n",
    "Southern has the highest number incidents and charges booked and Richmond has the least, implying that Southern is the least safe district and that Richmond is the safest.\n",
    "Each incident can result"
   ]
  },
  {
   "cell_type": "code",
   "execution_count": null,
   "metadata": {
    "collapsed": false,
    "scrolled": false
   },
   "outputs": [],
   "source": [
    "from matplotlib import gridspec\n",
    "from matplotlib import pyplot as plt\n",
    "districts = pandas.DataFrame({\n",
    "    \"Charges\": sanfran.groupby(\"PdDistrict\").count()[\"PdId\"],\n",
    "    \"Incidents\": filteredData.groupby(\"PdDistrict\").count()[\"PdId\"]\n",
    "})\n",
    "districts[\"Ratio\"] = districts[\"Charges\"] / districts[\"Incidents\"]\n",
    "districts = districts.sort_values(\"Incidents\")\n",
    "districts.style.format({\"Ratio\":\"{:.0}\"})\n",
    "\n",
    "f, (ax1, ax2) = plt.subplots(nrows=2, figsize=(15, 8), sharex=True, squeeze=True, gridspec_kw={'height_ratios': [3, 1]},)\n",
    "#f = plt.figure(figsize=(15, 10))\n",
    "#gs = gridspec.GridSpec(2, 1, height_ratios=[3, 1]) \n",
    "#ax1 = plt.subplot(gs[0])\n",
    "#ax2 = plt.subplot(gs[1], sharex=ax1)\n",
    "\n",
    "thedata=sanfran[[\"Arrested or Booked\",\"Other Resolution\",\"No Resolution\",\"PdDistrict\"]].groupby(\"PdDistrict\").sum()\n",
    "\n",
    "\n",
    "sns.set_color_codes(\"pastel\")\n",
    "plot4 = sns.countplot(x=\"PdDistrict\", data=sanfran, color=\"b\", label=\"Charges Made\", order=districts.index, ax=ax1)\n",
    "\n",
    "#sns.set_color_codes(\"muted\")\n",
    "#plot5 = sns.countplot(x=\"PdDistrict\", data=filteredData, color=\"b\", label=\"Number of Incidents\", order=districts.index, ax=ax1)\n",
    "#sns.despine(left=True, bottom=True)\n",
    "#sns.color_palette(\"husl\", 8)\n",
    "sns.set_color_codes(\"muted\")\n",
    "sns.barplot(data=thedata,x=thedata.index, y=\"No Resolution\", order=districts.index, ax=ax1, color=\"b\", label=\"No resolution\");\n",
    "#sns.set_color_codes(\"deep\")\n",
    "sns.barplot(data=thedata,x=thedata.index, y=\"Arrested or Booked\", order=districts.index, ax=ax1, color=\"c\", label=\"Arrested or Booked\");\n",
    "\n",
    "sns.barplot(data=districts,x=districts.index, y=\"Ratio\", order=districts.index, ax=ax2, color=\"g\");\n",
    "\n",
    "ax1.legend(ncol=2, loc=\"upper left\", frameon=True);\n",
    "ax1.set(ylabel=\"\", xlabel=\"\");\n",
    "ax2.set(ylabel=\"Ratio of incidents to charges\", xlabel=\"Police District\", ylim=[1.0,1.5]);\n",
    "plt.tight_layout()"
   ]
  },
  {
   "cell_type": "markdown",
   "metadata": {},
   "source": [
    "# Resolution of Crimes per Police District\n",
    "\n",
    "Below is subset of the posible resolutions "
   ]
  },
  {
   "cell_type": "code",
   "execution_count": null,
   "metadata": {
    "collapsed": false
   },
   "outputs": [],
   "source": [
    "thedata.plot(figsize=(15,5), kind=\"bar\");\n",
    "thedata2=filteredData[[\"Arrested or Booked\",\"Other Resolution\",\"No Resolution\",\"PdDistrict\"]].groupby(\"PdDistrict\").sum()\n",
    "plt.figure()\n",
    "thedata2.plot(figsize=(15,5), kind=\"bar\");\n"
   ]
  },
  {
   "cell_type": "code",
   "execution_count": null,
   "metadata": {
    "collapsed": false
   },
   "outputs": [],
   "source": [
    "thedata\n"
   ]
  },
  {
   "cell_type": "code",
   "execution_count": null,
   "metadata": {
    "collapsed": false
   },
   "outputs": [],
   "source": [
    "thedata2"
   ]
  },
  {
   "cell_type": "markdown",
   "metadata": {},
   "source": [
    "# Location of crimes"
   ]
  },
  {
   "cell_type": "code",
   "execution_count": null,
   "metadata": {
    "collapsed": false
   },
   "outputs": [],
   "source": [
    "from matplotlib import pyplot"
   ]
  },
  {
   "cell_type": "code",
   "execution_count": null,
   "metadata": {
    "collapsed": false
   },
   "outputs": [],
   "source": [
    "pyplot.figure(figsize=(12,12))\n",
    "pyplot.scatter(x=\"X\",y=\"Y\",data=sanfran, alpha=0.5, marker=sanfran[\"Category\"], cmap=sns.color_palette(\"hls\", 10))\n",
    "pyplot.axis((-122.52,-122.365, 37.70, 37.82));"
   ]
  },
  {
   "cell_type": "code",
   "execution_count": null,
   "metadata": {
    "collapsed": false
   },
   "outputs": [],
   "source": [
    "sanfran[\"Category\"].unique().size\n"
   ]
  },
  {
   "cell_type": "code",
   "execution_count": null,
   "metadata": {
    "collapsed": false
   },
   "outputs": [],
   "source": [
    "sanfran[\"PdDistrict\"].unique().size\n"
   ]
  },
  {
   "cell_type": "code",
   "execution_count": null,
   "metadata": {
    "collapsed": true
   },
   "outputs": [],
   "source": []
  }
 ],
 "metadata": {
  "anaconda-cloud": {},
  "kernelspec": {
   "display_name": "Python [default]",
   "language": "python",
   "name": "python2"
  },
  "language_info": {
   "codemirror_mode": {
    "name": "ipython",
    "version": 2
   },
   "file_extension": ".py",
   "mimetype": "text/x-python",
   "name": "python",
   "nbconvert_exporter": "python",
   "pygments_lexer": "ipython2",
   "version": "2.7.12"
  }
 },
 "nbformat": 4,
 "nbformat_minor": 1
}
